{
 "cells": [
  {
   "cell_type": "code",
   "execution_count": 1,
   "metadata": {},
   "outputs": [
    {
     "name": "stdout",
     "output_type": "stream",
     "text": [
      "Bienvenido al Chatbot de OpenAI\n"
     ]
    },
    {
     "ename": "KeyboardInterrupt",
     "evalue": "Interrupted by user",
     "output_type": "error",
     "traceback": [
      "\u001b[0;31m---------------------------------------------------------------------------\u001b[0m",
      "\u001b[0;31mKeyboardInterrupt\u001b[0m                         Traceback (most recent call last)",
      "\u001b[1;32m/Users/manuelvargas/Documents/cursos/AI/GenerativeAIwithLLMs/chatbot/clase12/labOpenAIAPI.ipynb Cell 1\u001b[0m line \u001b[0;36m2\n\u001b[1;32m     <a href='vscode-notebook-cell:/Users/manuelvargas/Documents/cursos/AI/GenerativeAIwithLLMs/chatbot/clase12/labOpenAIAPI.ipynb#W0sZmlsZQ%3D%3D?line=24'>25</a>\u001b[0m         \u001b[39mprint\u001b[39m(\u001b[39m\"\u001b[39m\u001b[39mRespuesta:\u001b[39m\u001b[39m\"\u001b[39m, respuesta)\n\u001b[1;32m     <a href='vscode-notebook-cell:/Users/manuelvargas/Documents/cursos/AI/GenerativeAIwithLLMs/chatbot/clase12/labOpenAIAPI.ipynb#W0sZmlsZQ%3D%3D?line=26'>27</a>\u001b[0m \u001b[39mif\u001b[39;00m \u001b[39m__name__\u001b[39m \u001b[39m==\u001b[39m \u001b[39m\"\u001b[39m\u001b[39m__main__\u001b[39m\u001b[39m\"\u001b[39m:\n\u001b[0;32m---> <a href='vscode-notebook-cell:/Users/manuelvargas/Documents/cursos/AI/GenerativeAIwithLLMs/chatbot/clase12/labOpenAIAPI.ipynb#W0sZmlsZQ%3D%3D?line=27'>28</a>\u001b[0m     main()\n",
      "\u001b[1;32m/Users/manuelvargas/Documents/cursos/AI/GenerativeAIwithLLMs/chatbot/clase12/labOpenAIAPI.ipynb Cell 1\u001b[0m line \u001b[0;36m1\n\u001b[1;32m     <a href='vscode-notebook-cell:/Users/manuelvargas/Documents/cursos/AI/GenerativeAIwithLLMs/chatbot/clase12/labOpenAIAPI.ipynb#W0sZmlsZQ%3D%3D?line=14'>15</a>\u001b[0m \u001b[39mprint\u001b[39m(\u001b[39m\"\u001b[39m\u001b[39mBienvenido al Chatbot de OpenAI\u001b[39m\u001b[39m\"\u001b[39m)\n\u001b[1;32m     <a href='vscode-notebook-cell:/Users/manuelvargas/Documents/cursos/AI/GenerativeAIwithLLMs/chatbot/clase12/labOpenAIAPI.ipynb#W0sZmlsZQ%3D%3D?line=16'>17</a>\u001b[0m \u001b[39mwhile\u001b[39;00m \u001b[39mTrue\u001b[39;00m:\n\u001b[0;32m---> <a href='vscode-notebook-cell:/Users/manuelvargas/Documents/cursos/AI/GenerativeAIwithLLMs/chatbot/clase12/labOpenAIAPI.ipynb#W0sZmlsZQ%3D%3D?line=17'>18</a>\u001b[0m     pregunta \u001b[39m=\u001b[39m \u001b[39minput\u001b[39;49m(\u001b[39m\"\u001b[39;49m\u001b[39mEscribe tu pregunta (o \u001b[39;49m\u001b[39m'\u001b[39;49m\u001b[39msalir\u001b[39;49m\u001b[39m'\u001b[39;49m\u001b[39m para finalizar): \u001b[39;49m\u001b[39m\"\u001b[39;49m)\n\u001b[1;32m     <a href='vscode-notebook-cell:/Users/manuelvargas/Documents/cursos/AI/GenerativeAIwithLLMs/chatbot/clase12/labOpenAIAPI.ipynb#W0sZmlsZQ%3D%3D?line=19'>20</a>\u001b[0m     \u001b[39mif\u001b[39;00m pregunta\u001b[39m.\u001b[39mlower() \u001b[39m==\u001b[39m \u001b[39m'\u001b[39m\u001b[39msalir\u001b[39m\u001b[39m'\u001b[39m:\n\u001b[1;32m     <a href='vscode-notebook-cell:/Users/manuelvargas/Documents/cursos/AI/GenerativeAIwithLLMs/chatbot/clase12/labOpenAIAPI.ipynb#W0sZmlsZQ%3D%3D?line=20'>21</a>\u001b[0m         \u001b[39mprint\u001b[39m(\u001b[39m\"\u001b[39m\u001b[39m¡Hasta luego!\u001b[39m\u001b[39m\"\u001b[39m)\n",
      "File \u001b[0;32m~/Documents/cursos/AI/GenerativeAIwithLLMs/env/lib/python3.9/site-packages/ipykernel/kernelbase.py:1251\u001b[0m, in \u001b[0;36mKernel.raw_input\u001b[0;34m(self, prompt)\u001b[0m\n\u001b[1;32m   1249\u001b[0m     msg \u001b[39m=\u001b[39m \u001b[39m\"\u001b[39m\u001b[39mraw_input was called, but this frontend does not support input requests.\u001b[39m\u001b[39m\"\u001b[39m\n\u001b[1;32m   1250\u001b[0m     \u001b[39mraise\u001b[39;00m StdinNotImplementedError(msg)\n\u001b[0;32m-> 1251\u001b[0m \u001b[39mreturn\u001b[39;00m \u001b[39mself\u001b[39;49m\u001b[39m.\u001b[39;49m_input_request(\n\u001b[1;32m   1252\u001b[0m     \u001b[39mstr\u001b[39;49m(prompt),\n\u001b[1;32m   1253\u001b[0m     \u001b[39mself\u001b[39;49m\u001b[39m.\u001b[39;49m_parent_ident[\u001b[39m\"\u001b[39;49m\u001b[39mshell\u001b[39;49m\u001b[39m\"\u001b[39;49m],\n\u001b[1;32m   1254\u001b[0m     \u001b[39mself\u001b[39;49m\u001b[39m.\u001b[39;49mget_parent(\u001b[39m\"\u001b[39;49m\u001b[39mshell\u001b[39;49m\u001b[39m\"\u001b[39;49m),\n\u001b[1;32m   1255\u001b[0m     password\u001b[39m=\u001b[39;49m\u001b[39mFalse\u001b[39;49;00m,\n\u001b[1;32m   1256\u001b[0m )\n",
      "File \u001b[0;32m~/Documents/cursos/AI/GenerativeAIwithLLMs/env/lib/python3.9/site-packages/ipykernel/kernelbase.py:1295\u001b[0m, in \u001b[0;36mKernel._input_request\u001b[0;34m(self, prompt, ident, parent, password)\u001b[0m\n\u001b[1;32m   1292\u001b[0m \u001b[39mexcept\u001b[39;00m \u001b[39mKeyboardInterrupt\u001b[39;00m:\n\u001b[1;32m   1293\u001b[0m     \u001b[39m# re-raise KeyboardInterrupt, to truncate traceback\u001b[39;00m\n\u001b[1;32m   1294\u001b[0m     msg \u001b[39m=\u001b[39m \u001b[39m\"\u001b[39m\u001b[39mInterrupted by user\u001b[39m\u001b[39m\"\u001b[39m\n\u001b[0;32m-> 1295\u001b[0m     \u001b[39mraise\u001b[39;00m \u001b[39mKeyboardInterrupt\u001b[39;00m(msg) \u001b[39mfrom\u001b[39;00m \u001b[39mNone\u001b[39;00m\n\u001b[1;32m   1296\u001b[0m \u001b[39mexcept\u001b[39;00m \u001b[39mException\u001b[39;00m:\n\u001b[1;32m   1297\u001b[0m     \u001b[39mself\u001b[39m\u001b[39m.\u001b[39mlog\u001b[39m.\u001b[39mwarning(\u001b[39m\"\u001b[39m\u001b[39mInvalid Message:\u001b[39m\u001b[39m\"\u001b[39m, exc_info\u001b[39m=\u001b[39m\u001b[39mTrue\u001b[39;00m)\n",
      "\u001b[0;31mKeyboardInterrupt\u001b[0m: Interrupted by user"
     ]
    }
   ],
   "source": [
    "import openai\n",
    "\n",
    "# Configura tu clave de API de OpenAI\n",
    "openai.api_key = 'TU_CLAVE_DE_API_AQUI'\n",
    "\n",
    "def generar_respuesta(pregunta):\n",
    "    respuesta = openai.completions.create(\n",
    "        model=\"text-davinci-003\", # gpt-3.5-turbo-instruct\n",
    "        prompt=pregunta,\n",
    "        max_tokens=50\n",
    "    )\n",
    "    return respuesta.choices[0].text.strip()\n",
    "\n",
    "def main():\n",
    "    print(\"Bienvenido al Chatbot de OpenAI\")\n",
    "\n",
    "    while True:\n",
    "        pregunta = input(\"Escribe tu pregunta (o 'salir' para finalizar): \")\n",
    "\n",
    "        if pregunta.lower() == 'salir':\n",
    "            print(\"¡Hasta luego!\")\n",
    "            break\n",
    "\n",
    "        respuesta = generar_respuesta(pregunta)\n",
    "        print(\"Respuesta:\", respuesta)\n",
    "\n",
    "if __name__ == \"__main__\":\n",
    "    main()"
   ]
  }
 ],
 "metadata": {
  "kernelspec": {
   "display_name": "env",
   "language": "python",
   "name": "python3"
  },
  "language_info": {
   "codemirror_mode": {
    "name": "ipython",
    "version": 3
   },
   "file_extension": ".py",
   "mimetype": "text/x-python",
   "name": "python",
   "nbconvert_exporter": "python",
   "pygments_lexer": "ipython3",
   "version": "3.9.13"
  }
 },
 "nbformat": 4,
 "nbformat_minor": 2
}

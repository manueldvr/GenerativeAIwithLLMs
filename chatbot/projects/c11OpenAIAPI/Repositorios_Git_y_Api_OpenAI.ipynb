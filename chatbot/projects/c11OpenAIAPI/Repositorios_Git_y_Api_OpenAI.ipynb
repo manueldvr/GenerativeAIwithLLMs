{
  "cells": [
    {
      "cell_type": "markdown",
      "metadata": {
        "id": "hUZVxrJEBnjw"
      },
      "source": [
        "## **Sección 1: Creando Repositorios Git**\n",
        "\n",
        "### **1. Inicializar un Repositorio Local**\n",
        "\n",
        "1. Abre una terminal o símbolo del sistema.\n",
        "2. Navega al directorio de tu proyecto local usando el comando `cd`.\n",
        "3. Inicializa un nuevo repositorio Git con el siguiente comando:\n",
        "\n",
        "```bash\n",
        "git init\n",
        "```\n",
        "\n",
        "### **2. Crear el Archivo `.gitignore`**\n",
        "\n",
        "El archivo `.gitignore` se utiliza para indicar a Git qué archivos o directorios deben ser ignorados y no incluidos en el repositorio. Crea un archivo llamado `.gitignore` en la raíz de tu proyecto y agrega los nombres de archivos y carpetas que deseas ignorar. Por ejemplo:\n",
        "\n",
        "```plaintext\n",
        "# Archivos y directorios ignorados por Git\n",
        "venv/\n",
        "__pycache__/\n",
        "*.pyc\n",
        "*.log\n",
        "```\n",
        "\n",
        "### **3. Agregar Archivos y Confirmaciones**\n",
        "\n",
        "1. Agrega todos los archivos de tu proyecto al área de preparación de Git:\n",
        "\n",
        "```bash\n",
        "git add .\n",
        "```\n",
        "\n",
        "2. Confirma los cambios con un mensaje descriptivo:\n",
        "\n",
        "```bash\n",
        "git commit -m \"Primer commit: Agrega archivos iniciales\"\n",
        "```\n",
        "\n",
        "### **4. Crear un Repositorio en GitHub**\n",
        "\n",
        "1. Abre tu navegador y accede a GitHub (https://github.com).\n",
        "2. Inicia sesión en tu cuenta (o regístrate si no tienes una).\n",
        "3. Haz clic en el botón \"+\" en la esquina superior derecha y selecciona \"Nuevo repositorio\".\n",
        "\n",
        "### **5. Configurar y Enlazar el Repositorio Remoto**\n",
        "\n",
        "1. Completa los detalles del nuevo repositorio (nombre, descripción, opciones, etc.).\n",
        "2. No selecciones la opción de agregar un archivo `README`, ya que ya tienes uno local.\n",
        "3. Una vez creado el repositorio, aparecerá la página con las instrucciones para enlazar tu repositorio local.\n",
        "\n",
        "### **6. Enlazar el Repositorio Remoto**\n",
        "\n",
        "1. En tu terminal, ejecuta los siguientes comandos, reemplazando `<nombre-de-usuario>` con tu nombre de usuario en GitHub y `<nombre-de-repositorio>` con el nombre del repositorio:\n",
        "\n",
        "```bash\n",
        "git remote add origin https://github.com/<nombre-de-usuario>/<nombre-de-repositorio>.git\n",
        "git branch -M main\n",
        "git push -u origin main\n",
        "```\n",
        "\n",
        "### **7. Compartir y Colaborar**\n",
        "\n",
        "Ahora tu repositorio local está enlazado a GitHub. Puedes compartir la URL del repositorio con otros y colaborar en el desarrollo. Para agregar colaboradores, ve a la pestaña \"Settings\" en tu repositorio de GitHub y selecciona \"Manage access\".\n",
        "\n",
        "¡Listo! Has creado un repositorio local, configurado el archivo `.gitignore` y subido tu proyecto a GitHub para compartirlo con otros y colaborar de manera efectiva."
      ]
    },
    {
      "cell_type": "markdown",
      "source": [
        "### **8. Crear un Archivo de Requisitos con Freeze**\n",
        "\n",
        "Los archivos de requisitos (`requirements.txt`) son útiles para\n",
        "definir todas las dependencias de tu proyecto. Para Crear, usa:\n",
        "\n",
        "```bash\n",
        "pip freeze > requirements.txt\n",
        "```\n",
        "\n",
        "### **9. Instalar Paquetes desde un Archivo de Requisitos**\n",
        "\n",
        "Para instalar paquetes desde un archivo de requisitos, usa:\n",
        "\n",
        "```bash\n",
        "pip install -r requirements.txt\n",
        "```"
      ],
      "metadata": {
        "id": "LRQ67goxJdIp"
      }
    },
    {
      "cell_type": "markdown",
      "metadata": {
        "id": "41YLLHrUJIFO"
      },
      "source": [
        "## **Sección 2: Conectandose a la API de OPENAI**"
      ]
    },
    {
      "cell_type": "markdown",
      "metadata": {
        "id": "A4urwf8bJIFO"
      },
      "source": [
        "Para hacer peticiones a la API de OpenAI y crear un script de Python donde el usuario escriba una pregunta y reciba la respuesta generada por ChatGPT, sigue estos pasos:\n",
        "\n",
        "**1. Obtener tu clave de API de OpenAI:**\n",
        "\n",
        "Antes de comenzar, asegúrate de tener una clave de API válida de OpenAI. Puedes obtener una siguiendo las instrucciones en el sitio web de OpenAI.\n",
        "\n",
        "**2. Instalar el paquete `openai`:**\n",
        "\n",
        "Si aún no lo has hecho, instala el paquete `openai` utilizando el siguiente comando:\n",
        "\n",
        "```bash\n",
        "pip install openai\n",
        "```\n",
        "\n"
      ]
    },
    {
      "cell_type": "markdown",
      "source": [
        "probemos la conexion a la Api desde este Colab"
      ],
      "metadata": {
        "id": "qfbyk2buepMP"
      }
    },
    {
      "cell_type": "code",
      "source": [
        "!pip install openai #Instalamos la libreria"
      ],
      "metadata": {
        "id": "j4Y4eieIeB8Y"
      },
      "execution_count": null,
      "outputs": []
    },
    {
      "cell_type": "code",
      "source": [
        "import openai #Importamos para tenerla disponible en memoria"
      ],
      "metadata": {
        "id": "bwvFxB49ezSf"
      },
      "execution_count": null,
      "outputs": []
    },
    {
      "cell_type": "code",
      "source": [
        "openai.api_key = 'Ingresa aquí tu API Key de OpenAI'  # cargamos la API_KEY"
      ],
      "metadata": {
        "id": "h7RnpcO_fTDW"
      },
      "execution_count": null,
      "outputs": []
    },
    {
      "cell_type": "code",
      "source": [
        "respuesta = openai.Completion.create( ## creamos una instancia de Consulta\n",
        "        engine=\"text-davinci-003\",\n",
        "        prompt=\"¿Qué es la IA?\",\n",
        "        max_tokens=100\n",
        "    )"
      ],
      "metadata": {
        "id": "btToaOjkfZL_"
      },
      "execution_count": null,
      "outputs": []
    },
    {
      "cell_type": "code",
      "source": [
        "print(respuesta)"
      ],
      "metadata": {
        "id": "brRsofd6f_M9"
      },
      "execution_count": null,
      "outputs": []
    },
    {
      "cell_type": "code",
      "source": [
        "print(respuesta.choices[0].text)"
      ],
      "metadata": {
        "id": "-LHgjrRogHOW"
      },
      "execution_count": null,
      "outputs": []
    },
    {
      "cell_type": "markdown",
      "source": [
        "####Ejemplo de un prompt mas complejo, para clasificar sentientos:"
      ],
      "metadata": {
        "id": "9qLsQP7bhEQV"
      }
    },
    {
      "cell_type": "code",
      "source": [
        "response = openai.Completion.create(\n",
        "  model=\"text-davinci-003\",\n",
        "  prompt=\"Decide si el sentimiento de esta frase es positivo, neutral, o negativo. \\\n",
        "  \\n\\nFrase: \\\"Me entusiasma mucho aprender sobre grandes modelos del lenguaje.\\\" \\\n",
        "  \\\"\\nSentiment:\",\n",
        "  temperature=0,\n",
        "  max_tokens=60,\n",
        "  top_p=1.0,\n",
        "  frequency_penalty=0.5,\n",
        "  presence_penalty=0.0\n",
        ")"
      ],
      "metadata": {
        "id": "40nahwS_hP0k"
      },
      "execution_count": null,
      "outputs": []
    },
    {
      "cell_type": "code",
      "source": [
        "response.choices[0].text"
      ],
      "metadata": {
        "id": "qgR_R5_Mhl7E"
      },
      "execution_count": null,
      "outputs": []
    },
    {
      "cell_type": "markdown",
      "source": [
        "**3. Crear el Script de Python:**\n",
        "\n",
        "Crea un archivo Python llamado `chatbot.py` (o cualquier nombre que prefieras) y agrega el siguiente código:\n",
        "\n",
        "```python\n",
        "import openai\n",
        "\n",
        "# Configura tu clave de API de OpenAI\n",
        "openai.api_key = 'TU_CLAVE_DE_API_AQUI'\n",
        "\n",
        "def generar_respuesta(pregunta):\n",
        "    respuesta = openai.Completion.create(\n",
        "        engine=\"text-davinci-003\",\n",
        "        prompt=pregunta,\n",
        "        max_tokens=50\n",
        "    )\n",
        "    return respuesta.choices[0].text.strip()\n",
        "\n",
        "def main():\n",
        "    print(\"Bienvenido al Chatbot de OpenAI\")\n",
        "    \n",
        "    while True:\n",
        "        pregunta = input(\"Escribe tu pregunta (o 'salir' para finalizar): \")\n",
        "        \n",
        "        if pregunta.lower() == 'salir':\n",
        "            print(\"¡Hasta luego!\")\n",
        "            break\n",
        "        \n",
        "        respuesta = generar_respuesta(pregunta)\n",
        "        print(\"Respuesta:\", respuesta)\n",
        "\n",
        "if __name__ == \"__main__\":\n",
        "    main()\n",
        "```\n",
        "\n",
        "**4. Ejecutar el Script:**\n",
        "\n",
        "Abre una terminal, navega al directorio donde tengas el archivo `chatbot.py` y ejecútalo usando:\n",
        "\n",
        "```bash\n",
        "python chatbot.py\n",
        "```\n",
        "\n",
        "**5. Interactuar con el Chatbot:**\n",
        "\n",
        "Cuando ejecutes el script, podrás interactuar con el chatbot. Escribe preguntas y el chatbot generará respuestas basadas en el motor de lenguaje seleccionado.\n",
        "\n",
        "Ten en cuenta que este ejemplo utiliza el motor `text-davinci-003`. Puedes experimentar con otros motores disponibles en la API de OpenAI para obtener diferentes estilos de respuestas.\n",
        "\n",
        "Recuerda que la respuesta generada puede variar según la pregunta y el contexto. Puedes ajustar los parámetros como `max_tokens` para controlar la longitud de las respuestas generadas."
      ],
      "metadata": {
        "id": "7maXNgK2a5IB"
      }
    },
    {
      "cell_type": "markdown",
      "metadata": {
        "id": "Uk3cQx_aJIFO"
      },
      "source": [
        "### Protegienndo la API-Key\n",
        "\n",
        "**1. Usando un archivo `config.py`:**\n",
        "\n",
        "Crea un archivo llamado `config.py` en la misma carpeta que tu script principal y guarda tu API key en él:\n",
        "\n",
        "```python\n",
        "# config.py\n",
        "API_KEY = \"tu_clave_de_api_aqui\"\n",
        "```\n",
        "\n",
        "Luego, en tu script principal, importa la clave desde `config.py`:\n",
        "\n",
        "```python\n",
        "from config import API_KEY\n",
        "\n",
        "# Usar API_KEY en tu código\n",
        "print(\"Mi API key es:\", API_KEY)\n",
        "```\n",
        "\n",
        "Este método protege tu clave al mantenerla en un archivo separado. Sin embargo, ten en cuenta que cualquier persona que tenga acceso a tu código también verá la clave si tiene acceso al archivo `config.py`.\n",
        "\n",
        "**2. Usando una variable de entorno del sistema:**\n",
        "\n",
        "Establece una variable de entorno del sistema con el nombre `API_KEY` y asigna tu clave como valor. Esto varía según el sistema operativo.\n",
        "\n",
        "- En Windows, puedes establecer la variable de entorno desde el símbolo del sistema:\n",
        "\n",
        "  ```bash\n",
        "  setx API_KEY \"tu_clave_de_api_aqui\"\n",
        "  ```\n",
        "\n",
        "- En Linux o macOS, puedes agregar la siguiente línea a tu archivo `.bashrc`, `.bash_profile` o `.zshrc`:\n",
        "\n",
        "  ```bash\n",
        "  export API_KEY=\"tu_clave_de_api_aqui\"\n",
        "  ```\n",
        "\n",
        "Luego, en tu script Python, puedes acceder a la variable de entorno utilizando la biblioteca `os`:\n",
        "\n",
        "```python\n",
        "import os\n",
        "\n",
        "API_KEY = os.environ.get(\"API_KEY\")\n",
        "\n",
        "# Usar API_KEY en tu código\n",
        "print(\"Mi API key es:\", API_KEY)\n",
        "```\n",
        "\n",
        "Este método protege aún más tu clave, ya que no está presente en tu código ni en archivos en el directorio. Sin embargo, debes asegurarte de mantener segura tu variable de entorno en tu sistema.\n",
        "\n",
        "Ambos métodos tienen ventajas y desventajas, así que elige el que mejor se adapte a tus necesidades de seguridad y desarrollo."
      ]
    }
  ],
  "metadata": {
    "colab": {
      "provenance": []
    },
    "kernelspec": {
      "display_name": "Python 3",
      "name": "python3"
    },
    "language_info": {
      "name": "python"
    }
  },
  "nbformat": 4,
  "nbformat_minor": 0
}